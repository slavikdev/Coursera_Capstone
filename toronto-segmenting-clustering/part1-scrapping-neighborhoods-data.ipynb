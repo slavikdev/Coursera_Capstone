{
 "cells": [
  {
   "cell_type": "markdown",
   "metadata": {},
   "source": [
    "# Segmenting and Clustering Neighborhoods in Toronto"
   ]
  },
  {
   "cell_type": "markdown",
   "metadata": {},
   "source": [
    "This notebook is part of the capstone project for the [IBM Data Science Professional Certificate](https://www.coursera.org/professional-certificates/ibm-data-science) course.\n",
    "In this project I’m exploring and clustering the neighborhoods in Toronto."
   ]
  },
  {
   "cell_type": "code",
   "execution_count": 3,
   "metadata": {},
   "outputs": [],
   "source": [
    "import requests\n",
    "import lxml.html as html\n",
    "import pandas as pd"
   ]
  },
  {
   "cell_type": "code",
   "execution_count": 4,
   "metadata": {},
   "outputs": [],
   "source": [
    "# Downloading and parsing the wiki page\n",
    "wiki_url = 'https://en.wikipedia.org/wiki/List_of_postal_codes_of_Canada:_M'\n",
    "wiki_page = requests.get(wiki_url)\n",
    "wiki_doc = html.fromstring(wiki_page.content)"
   ]
  },
  {
   "cell_type": "code",
   "execution_count": 33,
   "metadata": {},
   "outputs": [
    {
     "output_type": "execute_result",
     "data": {
      "text/plain": "<Element table at 0x2693bef30e8>"
     },
     "metadata": {},
     "execution_count": 33
    }
   ],
   "source": [
    "# Navigating to the table\n",
    "# NOTE: Changes to the page will require changes in this code.\n",
    "wiki_table = wiki_doc.xpath('//*[@id=\"mw-content-text\"]/div/table[1]')\n",
    "\n",
    "# Let's make sure we found the right table.abs\n",
    "import re\n",
    "\n",
    "re_postal_code = r'\\nM\\d[A-Z]\\n'\n",
    "re_postal_code_flags = re.MULTILINE | re.UNICODE\n",
    "if len(wiki_table) == 0 or re.search(re_postal_code, wiki_table[0].text_content(), re_postal_code_flags) == None:\n",
    "    raise Exception('Could not find the table of postal codes. Consider updating the XPath.')\n",
    "\n",
    "postal_codes_table = wiki_table[0]\n",
    "postal_codes_table"
   ]
  },
  {
   "cell_type": "code",
   "execution_count": 56,
   "metadata": {
    "tags": [
     "outputPrepend"
    ]
   },
   "outputs": [
    {
     "output_type": "execute_result",
     "data": {
      "text/plain": "  PostalCode           Borough                                 Neighborhood\n0        M3A        North York                                    Parkwoods\n1        M4A        North York                             Victoria Village\n2        M5A  Downtown Toronto                    Regent Park, Harbourfront\n3        M6A        North York             Lawrence Manor, Lawrence Heights\n4        M7A  Downtown Toronto  Queen's Park, Ontario Provincial Government",
      "text/html": "<div>\n<style scoped>\n    .dataframe tbody tr th:only-of-type {\n        vertical-align: middle;\n    }\n\n    .dataframe tbody tr th {\n        vertical-align: top;\n    }\n\n    .dataframe thead th {\n        text-align: right;\n    }\n</style>\n<table border=\"1\" class=\"dataframe\">\n  <thead>\n    <tr style=\"text-align: right;\">\n      <th></th>\n      <th>PostalCode</th>\n      <th>Borough</th>\n      <th>Neighborhood</th>\n    </tr>\n  </thead>\n  <tbody>\n    <tr>\n      <td>0</td>\n      <td>M3A</td>\n      <td>North York</td>\n      <td>Parkwoods</td>\n    </tr>\n    <tr>\n      <td>1</td>\n      <td>M4A</td>\n      <td>North York</td>\n      <td>Victoria Village</td>\n    </tr>\n    <tr>\n      <td>2</td>\n      <td>M5A</td>\n      <td>Downtown Toronto</td>\n      <td>Regent Park, Harbourfront</td>\n    </tr>\n    <tr>\n      <td>3</td>\n      <td>M6A</td>\n      <td>North York</td>\n      <td>Lawrence Manor, Lawrence Heights</td>\n    </tr>\n    <tr>\n      <td>4</td>\n      <td>M7A</td>\n      <td>Downtown Toronto</td>\n      <td>Queen's Park, Ontario Provincial Government</td>\n    </tr>\n  </tbody>\n</table>\n</div>"
     },
     "metadata": {},
     "execution_count": 56
    }
   ],
   "source": [
    "# Parse the table into a dataframe\n",
    "\n",
    "rows = postal_codes_table.findall('.//tr')\n",
    "if len(rows) == 0:\n",
    "    raise Exception('Could not find any rows in the table')\n",
    "\n",
    "EXPECTED_COLS_NUM = 3\n",
    "table_dict = { 'PostalCode': [], 'Borough': [], 'Neighborhood': [] }\n",
    "\n",
    "for row in rows:\n",
    "    cols = row.findall('.//td')\n",
    "    num_cols = len(cols)\n",
    "\n",
    "    # Skip rows without td elements (like the header)\n",
    "    if num_cols == 0:\n",
    "        continue\n",
    "\n",
    "    # Make sure we always the expected number of columns\n",
    "    if num_cols != EXPECTED_COLS_NUM:\n",
    "        raise Exception('Expected exactly {} columns but got {}.'.format(EXPECTED_COLS_NUM, num_cols))\n",
    "\n",
    "    borough = cols[1].text_content().strip()\n",
    "\n",
    "    # Ignore rows without borough as per the task description\n",
    "    if borough == 'Not assigned':\n",
    "        continue\n",
    "\n",
    "    neighborhoods = cols[2].text_content().strip().split(' / ')\n",
    "\n",
    "    # Make neighborhood same as borough if the former isn't specified\n",
    "    if len(neighborhoods) == 0 or neighborhoods[0] == 'Not assigned':\n",
    "        neighborhoods = [borough]\n",
    "\n",
    "    table_dict['PostalCode'].append(cols[0].text_content().strip())\n",
    "    table_dict['Borough'].append(borough)\n",
    "    table_dict['Neighborhood'].append(', '.join(neighborhoods))\n",
    "\n",
    "df = pd.DataFrame.from_dict(table_dict)\n",
    "df.head()"
   ]
  },
  {
   "cell_type": "code",
   "execution_count": 58,
   "metadata": {},
   "outputs": [
    {
     "output_type": "execute_result",
     "data": {
      "text/plain": "(103, 3)"
     },
     "metadata": {},
     "execution_count": 58
    }
   ],
   "source": [
    "df.shape"
   ]
  },
  {
   "cell_type": "code",
   "execution_count": null,
   "metadata": {},
   "outputs": [],
   "source": []
  }
 ],
 "metadata": {
  "kernelspec": {
   "display_name": "Python 3.7.4 64-bit ('base': conda)",
   "language": "python",
   "name": "python37464bitbaseconda200d9a088fef44f0bbcf4f88168d8493"
  },
  "language_info": {
   "codemirror_mode": {
    "name": "ipython",
    "version": 3
   },
   "file_extension": ".py",
   "mimetype": "text/x-python",
   "name": "python",
   "nbconvert_exporter": "python",
   "pygments_lexer": "ipython3",
   "version": "3.7.5-final"
  }
 },
 "nbformat": 4,
 "nbformat_minor": 4
}